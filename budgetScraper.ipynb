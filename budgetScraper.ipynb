{
 "cells": [
  {
   "cell_type": "markdown",
   "metadata": {},
   "source": [
    "This notebook scrapes budget information from imdb.com for the top 1000 lifetime adjusted box office grosses, found on boxofficemojo.com. It exports the data as a list of tuples to 'budget_list.txt'."
   ]
  },
  {
   "cell_type": "code",
   "execution_count": null,
   "metadata": {},
   "outputs": [],
   "source": [
    "from bs4 import BeautifulSoup\n",
    "import requests\n",
    "import pandas as pd\n",
    "import json"
   ]
  },
  {
   "cell_type": "code",
   "execution_count": null,
   "metadata": {},
   "outputs": [],
   "source": [
    "page_number_url_list = list(range(0, 1000, 200))\n",
    "page_number_url_list"
   ]
  },
  {
   "cell_type": "code",
   "execution_count": null,
   "metadata": {},
   "outputs": [],
   "source": [
    "mainpage_url_list = []\n",
    "mainpage_url = \\\n",
    "\"https://www.boxofficemojo.com/chart/top_lifetime_gross_adjusted/?adjust_gross_to=2020&offset=\"\n",
    "\n",
    "for i in page_number_url_list:\n",
    "    mainpage_url_list.append(mainpage_url + str(i))\n",
    "\n",
    "mainpage_url_list"
   ]
  },
  {
   "cell_type": "code",
   "execution_count": null,
   "metadata": {},
   "outputs": [],
   "source": [
    "movie_id_list = []\n",
    "\n",
    "\n",
    "for i in mainpage_url_list:\n",
    "    mainpage = requests.get(i)\n",
    "    soup = BeautifulSoup(mainpage.content, 'html.parser')    \n",
    "    grandparent = soup.find('div', {'id': 'table'}).findAll('td', {'class': \\\n",
    "                            'a-text-left mojo-field-type-title'})\n",
    "    for i in grandparent:\n",
    "        x = i.find('a', {'class':'a-link-normal'}).get('href')\n",
    "        each_movie_mainpage_url = str('https://www.boxofficemojo.com' + x)\n",
    "        first_slice = str(each_movie_mainpage_url\\\n",
    "                        .split('https://www.boxofficemojo.com/title/', 1)[1])\n",
    "        second_slice = str(first_slice.split('/?ref_', 1)[0])\n",
    "        movie_id_list.append(second_slice)\n",
    "\n",
    "movie_id_list"
   ]
  },
  {
   "cell_type": "code",
   "execution_count": null,
   "metadata": {},
   "outputs": [],
   "source": [
    "movie_budget_list = []\n",
    "\n",
    "for i in movie_id_list:\n",
    "    imdb_url = 'https://www.imdb.com/title/'\n",
    "    movie_url = str(imdb_url + i)\n",
    "    mainpage = requests.get(movie_url)\n",
    "    soup = BeautifulSoup(mainpage.content, 'html.parser') \n",
    "    try:\n",
    "        grandparent = soup.find('div', {'id': 'titleDetails'}).find(text = 'Budget:')\\\n",
    "                            .parent.parent.get_text()\n",
    "        first_slice = str(grandparent.split('Budget:$', 1)[1])\n",
    "        second_slice = str(first_slice.split('\\n', 1)[0])\n",
    "        budget = second_slice.replace(',', '')\n",
    "        print(i, budget)\n",
    "        movie_budget_list.append((i, budget))\n",
    "    except:\n",
    "        pass\n",
    "\n",
    "with open('budget_list.txt', 'w') as outfile:\n",
    "    json.dump(movie_budget_list, outfile)\n",
    "\n"
   ]
  },
  {
   "cell_type": "code",
   "execution_count": null,
   "metadata": {},
   "outputs": [],
   "source": []
  }
 ],
 "metadata": {
  "kernelspec": {
   "display_name": "Python 3",
   "language": "python",
   "name": "python3"
  },
  "language_info": {
   "codemirror_mode": {
    "name": "ipython",
    "version": 3
   },
   "file_extension": ".py",
   "mimetype": "text/x-python",
   "name": "python",
   "nbconvert_exporter": "python",
   "pygments_lexer": "ipython3",
   "version": "3.7.4"
  }
 },
 "nbformat": 4,
 "nbformat_minor": 4
}
