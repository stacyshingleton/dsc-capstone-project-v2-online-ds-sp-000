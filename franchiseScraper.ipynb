{
 "cells": [
  {
   "cell_type": "markdown",
   "metadata": {},
   "source": [
    "This notebook scrapes all franchise information from boxofficemojo.com. It exports the data as a list of tuples to 'BOM_movie_franchise_with_date_list.txt'."
   ]
  },
  {
   "cell_type": "code",
   "execution_count": null,
   "metadata": {},
   "outputs": [],
   "source": [
    "from bs4 import BeautifulSoup\n",
    "import requests\n",
    "import pandas as pd\n",
    "import json"
   ]
  },
  {
   "cell_type": "code",
   "execution_count": null,
   "metadata": {},
   "outputs": [],
   "source": [
    "full_franchise_url_list = []\n",
    "main_url = 'https://www.boxofficemojo.com'\n",
    "\n",
    "mainpage = requests.get('https://www.boxofficemojo.com/franchise/?ref_=bo_lnav_hm_shrt')\n",
    "soup = BeautifulSoup(mainpage.content, 'html.parser')    \n",
    "grandparent = soup.find('div', {'class': 'a-section imdb-scroll-table-inner'}).findAll('tr')\n",
    "for i in grandparent[1:]:\n",
    "    franchise_url = (i.find('td', {'class':\\\n",
    "        'a-text-left mojo-header-column mojo-truncate mojo-field-type-franchise'}) \\\n",
    "        .find('a').get('href'))\n",
    "    full_url = (str(main_url) + str(franchise_url))\n",
    "    full_franchise_url_list.append(full_url)\n",
    "\n",
    "full_franchise_url_list\n",
    "            "
   ]
  },
  {
   "cell_type": "code",
   "execution_count": null,
   "metadata": {},
   "outputs": [],
   "source": [
    "all_franchise_list = []\n",
    "\n",
    "\n",
    "for k in full_franchise_url_list:\n",
    "    each_franchise_list = []\n",
    "    mainpage = requests.get(k)\n",
    "    soup = BeautifulSoup(mainpage.content, 'html.parser')    \n",
    "    parent = soup.find('div', {'class': 'a-section a-spacing-none'})\n",
    "    child = parent.findAll('tr')\n",
    "    key = parent.find('h1').get_text()\n",
    "#     each_franchise_dict[key] = []\n",
    "    for k in child[1:]:\n",
    "        movie_name = k.find('td', {'class': \\\n",
    "            'a-text-left mojo-field-type-release mojo-cell-wide'})\n",
    "        movie_date = k.find('td', {'class': 'a-text-left mojo-field-type-date a-nowrap'})\n",
    "        each_franchise_list.append((key, movie_name.get_text(), movie_date.get_text()))\n",
    "        print(key, movie_name.get_text(), movie_date.get_text())\n",
    "    \n",
    "    all_franchise_list.extend(each_franchise_list)\n",
    "    \n",
    "            \n",
    "with open('BOM_movie_franchise_with_date_list.txt', 'w') as outfile:\n",
    "    json.dump(all_franchise_list, outfile)   \n",
    "    \n",
    "# all_franchise_list"
   ]
  },
  {
   "cell_type": "code",
   "execution_count": null,
   "metadata": {},
   "outputs": [],
   "source": []
  }
 ],
 "metadata": {
  "kernelspec": {
   "display_name": "Python 3",
   "language": "python",
   "name": "python3"
  },
  "language_info": {
   "codemirror_mode": {
    "name": "ipython",
    "version": 3
   },
   "file_extension": ".py",
   "mimetype": "text/x-python",
   "name": "python",
   "nbconvert_exporter": "python",
   "pygments_lexer": "ipython3",
   "version": "3.7.4"
  }
 },
 "nbformat": 4,
 "nbformat_minor": 4
}
